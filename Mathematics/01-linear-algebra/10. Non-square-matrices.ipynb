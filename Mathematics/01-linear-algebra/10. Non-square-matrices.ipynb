{
 "cells": [
  {
   "cell_type": "markdown",
   "metadata": {},
   "source": [
    "# Understanding Matrix Multiplication with Einstein Summation\n",
    "\n",
    "This notebook explains how the Einstein summation convention (often called `einsum`) simplifies the multiplication of non-square matrices and makes the dimensions of the resulting matrix intuitive.\n",
    "\n",
    "**The Core Problem:** When multiplying two matrices, say **A** and **B**, the number of columns in the first matrix (**A**) must equal the number of rows in the second matrix (**B**). The resulting matrix, **C**, will then have the same number of rows as **A** and the same number of columns as **B**.\n",
    "\n",
    "Let's formalize this:\n",
    "- If matrix **A** has dimensions `(m, n)` (m rows, n columns).\n",
    "- And matrix **B** has dimensions `(n, p)` (n rows, p columns).\n",
    "- The resulting matrix **C** will have dimensions `(m, p)`.\n",
    "\n",
    "Keeping track of these indices can sometimes be confusing. Einstein summation provides a clear and concise way to represent this operation."
   ]
  },
  {
   "cell_type": "markdown",
   "metadata": {},
   "source": [
    "## 1. Standard Matrix Multiplication (The Loop Method)\n",
    "\n",
    "The standard formula for an element at row `i` and column `j` of the resulting matrix **C** is:\n",
    "\n",
    "$$ C_{ij} = \\sum_{k=0}^{n-1} A_{ik} B_{kj} $$\n",
    "\n",
    "This formula tells us to:\n",
    "1. Take the `i`-th row of matrix A.\n",
    "2. Take the `j`-th column of matrix B.\n",
    "3. Multiply them element-wise and sum the results.\n",
    "\n",
    "Let's see this with a Python example."
   ]
  },
  {
   "cell_type": "code",
   "execution_count": 5,
   "metadata": {},
   "outputs": [
    {
     "name": "stdout",
     "output_type": "stream",
     "text": [
      "Shape of A: (3, 2)\n",
      "Shape of B: (2, 4)\n",
      "\n",
      "Result using NumPy's '@' operator:\n",
      "[[ 29  32  35  38]\n",
      " [ 65  72  79  86]\n",
      " [101 112 123 134]]\n",
      "Shape of resulting matrix C: (3, 4)\n"
     ]
    }
   ],
   "source": [
    "import numpy as np\n",
    "\n",
    "# Let's define two non-square matrices\n",
    "# A has shape (3, 2) -> 3 rows, 2 columns\n",
    "A = np.array([\n",
    "    [1, 2],\n",
    "    [3, 4],\n",
    "    [5, 6]\n",
    "])\n",
    "\n",
    "# B has shape (2, 4) -> 2 rows, 4 columns\n",
    "B = np.array([\n",
    "    [7, 8, 9, 10],\n",
    "    [11, 12, 13, 14]\n",
    "])\n",
    "\n",
    "# The inner dimensions match (A's columns = 2, B's rows = 2).\n",
    "# The resulting matrix C should have shape (3, 4).\n",
    "\n",
    "print(f\"Shape of A: {A.shape}\")\n",
    "print(f\"Shape of B: {B.shape}\")\n",
    "\n",
    "# Using numpy's built-in matrix multiplication operator `@`\n",
    "C_numpy = A @ B\n",
    "\n",
    "print(\"\\nResult using NumPy's '@' operator:\")\n",
    "print(C_numpy)\n",
    "print(f\"Shape of resulting matrix C: {C_numpy.shape}\")"
   ]
  },
  {
   "cell_type": "markdown",
   "metadata": {},
   "source": [
    "## 2. Introducing Einstein Summation Convention\n",
    "\n",
    "The Einstein summation convention is a notation that simplifies these kinds of operations. The core rules are:\n",
    "\n",
    "1.  **Repeated indices are summed over.** If an index appears on both the input side, it's the index we sum across (like `k` in the formula above).\n",
    "2.  **Indices that are not repeated define the output.** The indices that appear only once on the input side will be the indices of the resulting matrix.\n",
    "\n",
    "The notation is expressed as a string: `\"input_indices -> output_indices\"`.\n",
    "\n",
    "For our matrix multiplication, we can describe the matrices as:\n",
    "- Matrix A has dimensions represented by indices `i` and `j` -> `ij`.\n",
    "- Matrix B has dimensions represented by indices `j` and `k` -> `jk`.\n",
    "\n",
    "The multiplication is therefore written as `ij,jk`.\n",
    "\n",
    "- The index `j` is **repeated**, so it's the one we sum over. This corresponds to the inner dimension that must match.\n",
    "- The indices `i` and `k` are **not repeated**. These will form the dimensions of our output matrix.\n",
    "\n",
    "So, the complete `einsum` string is: **`ij,jk->ik`**\n",
    "\n",
    "This simple string tells us everything:\n",
    "- We are multiplying a matrix `(i, j)` with a matrix `(j, k)`.\n",
    "- The `j` dimension is summed over.\n",
    "- The resulting matrix will have dimensions `(i, k)`."
   ]
  },
  {
   "cell_type": "markdown",
   "metadata": {},
   "source": [
    "### Applying `einsum` to our Example\n",
    "\n",
    "- Matrix **A** has shape `(3, 2)`. We can assign `i=3` and `j=2`.\n",
    "- Matrix **B** has shape `(2, 4)`. We can assign `j=2` and `k=4`.\n",
    "\n",
    "The convention `ij,jk->ik` perfectly describes our operation:\n",
    "\n",
    "- **Input:** An `(i, j)` matrix and a `(j, k)` matrix.\n",
    "- **Condition:** The `j` dimension (value = 2) matches.\n",
    "- **Output:** An `(i, k)` matrix, which corresponds to a shape of `(3, 4)`.\n",
    "\n",
    "This directly proves the concept: **The resulting matrix gets its rows from the first matrix (`i`) and its columns from the second matrix (`k`).**\n",
    "\n",
    "Let's verify this with `numpy.einsum`."
   ]
  },
  {
   "cell_type": "code",
   "execution_count": 6,
   "metadata": {},
   "outputs": [
    {
     "name": "stdout",
     "output_type": "stream",
     "text": [
      "Result using np.einsum('ij,jk->ik'):\n",
      "[[ 29  32  35  38]\n",
      " [ 65  72  79  86]\n",
      " [101 112 123 134]]\n",
      "Shape of resulting matrix C: (3, 4)\n",
      "\n",
      "Are the results from '@' and 'einsum' the same?\n",
      "True\n"
     ]
    }
   ],
   "source": [
    "# Using the same matrices A and B\n",
    "\n",
    "# Perform the multiplication using einsum\n",
    "C_einsum = np.einsum('ij,jk->ik', A, B)\n",
    "\n",
    "print(\"Result using np.einsum('ij,jk->ik'):\")\n",
    "print(C_einsum)\n",
    "print(f\"Shape of resulting matrix C: {C_einsum.shape}\")\n",
    "\n",
    "# We can verify that this is identical to the standard method\n",
    "print(\"\\nAre the results from '@' and 'einsum' the same?\")\n",
    "print(np.array_equal(C_numpy, C_einsum))"
   ]
  },
  {
   "cell_type": "markdown",
   "metadata": {},
   "source": [
    "## 3. Conclusion\n",
    "\n",
    "The Einstein summation convention offers a powerful and intuitive way to think about matrix and tensor operations.\n",
    "\n",
    "For the multiplication of two matrices `A` and `B`:\n",
    "\n",
    "1.  **Identify the indices:** Let `A` be `ij` and `B` be `jk`.\n",
    "2.  **Find the common index:** The index `j` appears in both. This represents the inner dimension that must match and will be summed over during the multiplication.\n",
    "3.  **Determine the output indices:** The remaining indices, `i` and `k`, define the shape of the resulting matrix.\n",
    "\n",
    "The expression `ij,jk->ik` is a complete and unambiguous description of the operation. It elegantly confirms that the output matrix's shape is `(rows of first matrix, columns of second matrix)`."
   ]
  }
 ],
 "metadata": {
  "kernelspec": {
   "display_name": "base",
   "language": "python",
   "name": "python3"
  },
  "language_info": {
   "codemirror_mode": {
    "name": "ipython",
    "version": 3
   },
   "file_extension": ".py",
   "mimetype": "text/x-python",
   "name": "python",
   "nbconvert_exporter": "python",
   "pygments_lexer": "ipython3",
   "version": "3.13.5"
  }
 },
 "nbformat": 4,
 "nbformat_minor": 4
}
