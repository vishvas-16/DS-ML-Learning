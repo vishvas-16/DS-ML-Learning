{
 "cells": [
  {
   "cell_type": "markdown",
   "metadata": {},
   "source": [
    "# Understanding Orthogonal & Orthonormal Matrices\n",
    "\n",
    "This notebook covers the key concepts of orthogonal and orthonormal matrices. We'll explore their definition, properties, and why they are so useful in linear algebra."
   ]
  },
  {
   "cell_type": "markdown",
   "metadata": {},
   "source": [
    "## 1. What is an Orthogonal Matrix?\n",
    "\n",
    "An **orthogonal matrix** is a square matrix whose columns (and rows) form an *orthonormal set* of vectors. \n",
    "\n",
    "This means the matrix can be seen as a transformation matrix where the column vectors define a new basis. In this new basis, all basis vectors are perpendicular to each other and have a length of 1."
   ]
  },
  {
   "cell_type": "markdown",
   "metadata": {},
   "source": [
    "## 2. The Orthonormal Basis Set\n",
    "\n",
    "A set of vectors is called an **orthonormal basis set** if it satisfies two conditions:\n",
    "\n",
    "1.  **Orthogonality**: All vectors in the set are mutually perpendicular. The dot product of any two different vectors is 0.\n",
    "    $$ a_i \\cdot a_j = 0 \\quad \\text{if } i \\neq j $$\n",
    "\n",
    "2.  **Normalization**: Each vector in the set has a unit length (a magnitude of 1). The dot product of any vector with itself is 1.\n",
    "    $$ a_i \\cdot a_j = 1 \\quad \\text{if } i = j $$"
   ]
  },
  {
   "cell_type": "markdown",
   "metadata": {},
   "source": [
    "## 3. The Defining Property: $A^T A = I$\n",
    "\n",
    "The most important property of an orthogonal matrix $A$ arises when you multiply it by its transpose, $A^T$. \n",
    "\n",
    "Let the matrix $A$ be composed of column vectors $a_1, a_2, \\dots, a_n$:\n",
    "$$ A = \\begin{pmatrix} | & | & & | \\\\ a_1 & a_2 & \\cdots & a_n \\\\ | & | & & | \\end{pmatrix} $$\n",
    "\n",
    "Then its transpose, $A^T$, has these vectors as its rows:\n",
    "$$ A^T = \\begin{pmatrix} - & a_1 & - \\\\ - & a_2 & - \\\\ & \\vdots & \\\\ - & a_n & - \\end{pmatrix} $$\n",
    "\n",
    "When we compute the product $A^T A$, the element at position $(i, j)$ is the dot product of the $i$-th row of $A^T$ (which is $a_i$) and the $j$-th column of $A$ (which is $a_j$).\n",
    "\n",
    "$$ A^T A = \\begin{pmatrix} a_1 \\cdot a_1 & a_1 \\cdot a_2 & \\cdots & a_1 \\cdot a_n \\\\ a_2 \\cdot a_1 & a_2 \\cdot a_2 & \\cdots & a_2 \\cdot a_n \\\\ \\vdots & \\vdots & \\ddots & \\vdots \\\\ a_n \\cdot a_1 & a_n \\cdot a_2 & \\cdots & a_n \\cdot a_n \\end{pmatrix} = \\begin{pmatrix} 1 & 0 & \\cdots & 0 \\\\ 0 & 1 & \\cdots & 0 \\\\ \\vdots & \\vdots & \\ddots & \\vdots \\\\ 0 & 0 & \\cdots & 1 \\end{pmatrix} = I $$\n",
    "\n",
    "This happens because the column vectors form an orthonormal set."
   ]
  },
  {
   "cell_type": "markdown",
   "metadata": {},
   "source": [
    "## 4. A Powerful Shortcut: The Inverse\n",
    "\n",
    "From the property $A^T A = I$, we can see that the transpose of an orthogonal matrix is also its inverse.\n",
    "\n",
    "$$ A^T = A^{-1} $$\n",
    "\n",
    "This is incredibly useful because calculating the transpose is computationally trivial, while finding the inverse of a general matrix is very expensive. For an orthogonal matrix, this difficult task becomes easy.\n",
    "\n",
    "The inverse of a matrix performs the reverse transformation. So, for an orthogonal matrix, its **transpose performs the reverse transformation**."
   ]
  },
  {
   "cell_type": "code",
   "execution_count": 1,
   "metadata": {},
   "outputs": [
    {
     "name": "stdout",
     "output_type": "stream",
     "text": [
      "Orthogonal Matrix A:\n",
      " [[ 0.70710678 -0.70710678]\n",
      " [ 0.70710678  0.70710678]]\n",
      "\n",
      "Transpose of A (A^T):\n",
      " [[ 0.70710678  0.70710678]\n",
      " [-0.70710678  0.70710678]]\n",
      "\n",
      "Product A^T * A:\n",
      " [[ 1. -0.]\n",
      " [-0.  1.]]\n",
      "\n",
      "Inverse of A (A^-1) from np.linalg.inv:\n",
      " [[ 0.70710678  0.70710678]\n",
      " [-0.70710678  0.70710678]]\n",
      "\n",
      "Is A^T equal to A^-1? True\n"
     ]
    }
   ],
   "source": [
    "import numpy as np\n",
    "\n",
    "# Let's create a 2D rotation matrix, which is a classic example of an orthogonal matrix.\n",
    "theta = np.pi / 4  # 45 degrees\n",
    "A = np.array([\n",
    "    [np.cos(theta), -np.sin(theta)],\n",
    "    [np.sin(theta), np.cos(theta)]\n",
    "])\n",
    "\n",
    "print(\"Orthogonal Matrix A:\\n\", A)\n",
    "\n",
    "# Let's verify the property A^T * A = I\n",
    "A_transpose = A.T\n",
    "identity_matrix = A_transpose @ A # Using @ for matrix multiplication\n",
    "\n",
    "print(\"\\nTranspose of A (A^T):\\n\", A_transpose)\n",
    "print(\"\\nProduct A^T * A:\\n\", np.round(identity_matrix)) # Rounding to handle floating point inaccuracies\n",
    "\n",
    "# Now let's compare the transpose with the inverse calculated by NumPy\n",
    "A_inverse = np.linalg.inv(A)\n",
    "\n",
    "print(\"\\nInverse of A (A^-1) from np.linalg.inv:\\n\", A_inverse)\n",
    "print(\"\\nIs A^T equal to A^-1?\", np.allclose(A_transpose, A_inverse))"
   ]
  },
  {
   "cell_type": "markdown",
   "metadata": {},
   "source": [
    "## 5. Key Properties Summary\n",
    "\n",
    "1.  **Inverse is the Transpose**: As shown above, $A^T = A^{-1}$.\n",
    "2.  **Determinant is $\\pm 1$**: The determinant of an orthogonal matrix is always either +1 (for a pure rotation) or -1 (for a reflection).\n",
    "3.  **Projection is just the dot product**: Projecting a vector onto one of the basis vectors of an orthonormal set is simplified to just calculating their dot product."
   ]
  },
  {
   "cell_type": "code",
   "execution_count": 2,
   "metadata": {},
   "outputs": [
    {
     "name": "stdout",
     "output_type": "stream",
     "text": [
      "The determinant of A is: 1.00\n"
     ]
    }
   ],
   "source": [
    "# Let's calculate the determinant of our matrix A\n",
    "det_A = np.linalg.det(A)\n",
    "print(f\"The determinant of A is: {det_A:.2f}\")"
   ]
  }
 ],
 "metadata": {
  "kernelspec": {
   "display_name": "base",
   "language": "python",
   "name": "python3"
  },
  "language_info": {
   "codemirror_mode": {
    "name": "ipython",
    "version": 3
   },
   "file_extension": ".py",
   "mimetype": "text/x-python",
   "name": "python",
   "nbconvert_exporter": "python",
   "pygments_lexer": "ipython3",
   "version": "3.13.5"
  }
 },
 "nbformat": 4,
 "nbformat_minor": 2
}
