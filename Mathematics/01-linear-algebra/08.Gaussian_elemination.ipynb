{
 "cells": [
  {
   "cell_type": "markdown",
   "metadata": {},
   "source": [
    "# Identifying Singular Matrices using Gaussian Elimination\n",
    "\n",
    "In linear algebra, a **singular matrix** (or degenerate matrix) is a square matrix that does not have an inverse. This property is fundamental in many areas of mathematics, physics, and computer science. A matrix is singular if and only if its **determinant** is zero.\n",
    "\n",
    "While calculating the determinant is a direct way to check for singularity, another powerful method is to attempt to convert the matrix into **row echelon form** through Gaussian elimination. If this process fails because a zero appears on the main diagonal that cannot be eliminated by row swapping or addition, the matrix is singular.\n",
    "\n",
    "This notebook demonstrates a Python function that implements this test for a 4x4 matrix. 💡"
   ]
  },
  {
   "cell_type": "markdown",
   "metadata": {},
   "source": [
    "## The Algorithm: Row Echelon Form\n",
    "\n",
    "The core idea is to transform the matrix step-by-step, row by row, to achieve an upper triangular form (a form of row echelon form).\n",
    "\n",
    "For each row `i` (from 0 to 3):\n",
    "1.  **Zero Out Sub-diagonals**: Use linear combinations of previous rows (which already have a `1` on their diagonal) to make all elements below the main diagonal in the current column zero. For example, for `Row 2` (`A[2]`), we make `A[2,0]` and `A[2,1]` zero.\n",
    "2.  **Normalize the Diagonal**: Ensure the diagonal element `A[i,i]` is not zero. If it is, we try to add a lower row to it to make it non-zero. If we can't (because all lower rows also have a zero in that column), the matrix is singular.\n",
    "3.  **Set Diagonal to One**: Divide the entire row `i` by the value of its diagonal element `A[i,i]` to make the diagonal element equal to 1. \n",
    "\n",
    "If we can complete this process for all rows, the matrix is non-singular. If at any point we encounter a diagonal element that is zero and cannot be fixed, we raise an exception, flagging the matrix as singular."
   ]
  },
  {
   "cell_type": "markdown",
   "metadata": {},
   "source": [
    "## Python Implementation\n",
    "\n",
    "First, we'll import `numpy` for efficient matrix operations and define a custom exception to handle the case of a singular matrix gracefully."
   ]
  },
  {
   "cell_type": "code",
   "execution_count": 1,
   "metadata": {},
   "outputs": [],
   "source": [
    "import numpy as np\n",
    "\n",
    "# A custom exception to signal when the matrix is singular.\n",
    "class MatrixIsSingular(Exception): pass"
   ]
  },
  {
   "cell_type": "markdown",
   "metadata": {},
   "source": [
    "Next, we define the helper functions that process each row according to the algorithm described above."
   ]
  },
  {
   "cell_type": "code",
   "execution_count": 2,
   "metadata": {},
   "outputs": [],
   "source": [
    "def fixRowZero(A) :\n",
    "    \"\"\"Processes the first row (row 0).\"\"\"\n",
    "    # If the first element is 0, add a lower row to it.\n",
    "    if A[0,0] == 0 :\n",
    "        A[0] = A[0] + A[1]\n",
    "    if A[0,0] == 0 :\n",
    "        A[0] = A[0] + A[2]\n",
    "    if A[0,0] == 0 :\n",
    "        A[0] = A[0] + A[3]\n",
    "    # If it's still 0, the matrix is singular.\n",
    "    if A[0,0] == 0 :\n",
    "        raise MatrixIsSingular()\n",
    "    # Normalize the row to make the diagonal element 1.\n",
    "    A[0] = A[0] / A[0,0]\n",
    "    return A\n",
    "\n",
    "def fixRowOne(A) :\n",
    "    \"\"\"Processes the second row (row 1).\"\"\"\n",
    "    # Zero out the sub-diagonal element A[1,0].\n",
    "    A[1] = A[1] - (A[1,0] * A[0])\n",
    "    \n",
    "    # If the diagonal element is 0, add a lower row.\n",
    "    if A[1,1] == 0 :\n",
    "        A[1] = A[1] + A[2]\n",
    "        A[1] = A[1] - A[1,0] * A[0]\n",
    "    if A[1,1] == 0 :\n",
    "        A[1] = A[1] + A[3]\n",
    "        A[1] = A[1] - A[1,0] * A[0]\n",
    "    # If it's still 0, the matrix is singular.\n",
    "    if A[1,1] == 0 :\n",
    "        raise MatrixIsSingular()\n",
    "    # Normalize the row.\n",
    "    A[1] = A[1] / A[1,1]\n",
    "    return A\n",
    "\n",
    "def fixRowTwo(A) :\n",
    "    \"\"\"Processes the third row (row 2).\"\"\"\n",
    "    # Zero out the sub-diagonal elements A[2,0] and A[2,1].\n",
    "    A[2] = A[2] - (A[2,0] * A[0])\n",
    "    A[2] = A[2] - (A[2,1] * A[1])\n",
    "    \n",
    "    # If the diagonal element is 0, add the last row.\n",
    "    if A[2,2] == 0 :\n",
    "        A[2] = A[2] + A[3]\n",
    "        # Repeat the zeroing out process.\n",
    "        A[2] = A[2] - (A[2,0] * A[0])\n",
    "        A[2] = A[2] - (A[2,1] * A[1])\n",
    "    \n",
    "    # If it's still 0, the matrix is singular.\n",
    "    if A[2,2] == 0 :\n",
    "        raise MatrixIsSingular()\n",
    "    # Normalize the row.\n",
    "    A[2] = A[2] / A[2,2]\n",
    "    return A\n",
    "\n",
    "def fixRowThree(A) :\n",
    "    \"\"\"Processes the final row (row 3).\"\"\"\n",
    "    # Zero out the sub-diagonal elements A[3,0], A[3,1], and A[3,2].\n",
    "    A[3] = A[3] - (A[3,0] * A[0])\n",
    "    A[3] = A[3] - (A[3,1] * A[1])\n",
    "    A[3] = A[3] - (A[3,2] * A[2])\n",
    "    \n",
    "    # There are no lower rows to add, so if the diagonal is 0, it's singular.\n",
    "    if A[3,3] == 0:\n",
    "        raise MatrixIsSingular()\n",
    "    # Normalize the row.\n",
    "    A[3] = A[3] / A[3,3]\n",
    "    return A"
   ]
  },
  {
   "cell_type": "markdown",
   "metadata": {},
   "source": [
    "Finally, the main function `isSingular` orchestrates the process by calling each `fixRow` function in order. It uses a `try...except` block to catch the `MatrixIsSingular` exception, returning `True` if it's caught and `False` otherwise."
   ]
  },
  {
   "cell_type": "code",
   "execution_count": 3,
   "metadata": {},
   "outputs": [],
   "source": [
    "def isSingular(A) :\n",
    "    \"\"\" \n",
    "    Tests if a 4x4 matrix is singular by converting it to row echelon form.\n",
    "    \n",
    "    Args:\n",
    "        A (numpy.ndarray): The 4x4 matrix to test.\n",
    "    \n",
    "    Returns:\n",
    "        bool: True if the matrix is singular, False otherwise.\n",
    "    \"\"\"\n",
    "    B = np.array(A, dtype=np.float64) # Make a copy to avoid modifying the original matrix.\n",
    "    try:\n",
    "        fixRowZero(B)\n",
    "        fixRowOne(B)\n",
    "        fixRowTwo(B)\n",
    "        fixRowThree(B)\n",
    "    except MatrixIsSingular:\n",
    "        return True\n",
    "    return False"
   ]
  },
  {
   "cell_type": "markdown",
   "metadata": {},
   "source": [
    "## Demonstration\n",
    "\n",
    "Let's test our function with a few examples."
   ]
  },
  {
   "cell_type": "markdown",
   "metadata": {},
   "source": [
    "### Case 1: A Singular Matrix\n",
    "\n",
    "This matrix is singular because the last two rows are linearly dependent (Row 4 is 1.25 times Row 3). Our function should correctly identify this."
   ]
  },
  {
   "cell_type": "code",
   "execution_count": 4,
   "metadata": {},
   "outputs": [
    {
     "name": "stdout",
     "output_type": "stream",
     "text": [
      "Is the matrix singular? True\n"
     ]
    }
   ],
   "source": [
    "A_singular = np.array([\n",
    "        [2, 0, 0, 0],\n",
    "        [0, 3, 0, 0],\n",
    "        [0, 0, 4, 4],\n",
    "        [0, 0, 5, 5]\n",
    "    ], dtype=np.float64)\n",
    "\n",
    "print(f\"Is the matrix singular? {isSingular(A_singular)}\")"
   ]
  },
  {
   "cell_type": "markdown",
   "metadata": {},
   "source": [
    "### Case 2: A Non-Singular Matrix\n",
    "\n",
    "This matrix looks more complex, but it is non-singular and has an inverse. Our function should return `False`."
   ]
  },
  {
   "cell_type": "code",
   "execution_count": 5,
   "metadata": {},
   "outputs": [
    {
     "name": "stdout",
     "output_type": "stream",
     "text": [
      "Is the matrix singular? False\n"
     ]
    }
   ],
   "source": [
    "A_nonsingular = np.array([\n",
    "        [0, 7, -5, 3],\n",
    "        [2, 8, 0, 4],\n",
    "        [3, 12, 0, 5],\n",
    "        [1, 3, 1, 3]\n",
    "    ], dtype=np.float64)\n",
    "\n",
    "print(f\"Is the matrix singular? {isSingular(A_nonsingular)}\")"
   ]
  },
  {
   "cell_type": "markdown",
   "metadata": {},
   "source": [
    "### Visualizing the Echelon Form Transformation\n",
    "\n",
    "To see the process in action, let's apply the `fixRow` functions one by one to the non-singular matrix and observe how it's transformed into an upper-triangular matrix with ones on the diagonal."
   ]
  },
  {
   "cell_type": "code",
   "execution_count": 6,
   "metadata": {},
   "outputs": [
    {
     "name": "stdout",
     "output_type": "stream",
     "text": [
      "Original Matrix:\n",
      " [[ 0.  7. -5.  3.]\n",
      " [ 2.  8.  0.  4.]\n",
      " [ 3. 12.  0.  5.]\n",
      " [ 1.  3.  1.  3.]]\n",
      "\n",
      "After fixRowZero:\n",
      " [[ 1.   7.5 -2.5  3.5]\n",
      " [ 2.   8.   0.   4. ]\n",
      " [ 3.  12.   0.   5. ]\n",
      " [ 1.   3.   1.   3. ]]\n",
      "\n",
      "After fixRowOne:\n",
      " [[ 1.          7.5        -2.5         3.5       ]\n",
      " [-0.          1.         -0.71428571  0.42857143]\n",
      " [ 3.         12.          0.          5.        ]\n",
      " [ 1.          3.          1.          3.        ]]\n",
      "\n",
      "After fixRowTwo:\n",
      " [[ 1.          7.5        -2.5         3.5       ]\n",
      " [-0.          1.         -0.71428571  0.42857143]\n",
      " [ 0.          0.          1.          1.5       ]\n",
      " [ 1.          3.          1.          3.        ]]\n",
      "\n",
      "After fixRowThree (Final Echelon Form):\n",
      " [[ 1.          7.5        -2.5         3.5       ]\n",
      " [-0.          1.         -0.71428571  0.42857143]\n",
      " [ 0.          0.          1.          1.5       ]\n",
      " [ 0.          0.          0.          1.        ]]\n"
     ]
    }
   ],
   "source": [
    "M = np.array([\n",
    "        [0, 7, -5, 3],\n",
    "        [2, 8, 0, 4],\n",
    "        [3, 12, 0, 5],\n",
    "        [1, 3, 1, 3]\n",
    "    ], dtype=np.float64)\n",
    "\n",
    "print(\"Original Matrix:\\n\", M)\n",
    "\n",
    "fixRowZero(M)\n",
    "print(\"\\nAfter fixRowZero:\\n\", M)\n",
    "\n",
    "fixRowOne(M)\n",
    "print(\"\\nAfter fixRowOne:\\n\", M)\n",
    "\n",
    "fixRowTwo(M)\n",
    "print(\"\\nAfter fixRowTwo:\\n\", M)\n",
    "\n",
    "fixRowThree(M)\n",
    "print(\"\\nAfter fixRowThree (Final Echelon Form):\\n\", M)"
   ]
  },
  {
   "cell_type": "markdown",
   "metadata": {},
   "source": [
    "## Conclusion\n",
    "\n",
    "This manual implementation of Gaussian elimination provides a clear understanding of the mechanics behind identifying singular matrices. By converting a matrix to row echelon form, we can determine its invertibility. While `numpy.linalg.det(A) == 0` is a more direct and computationally optimized method, building the process from scratch is a fantastic exercise for reinforcing key concepts in linear algebra. ✅"
   ]
  }
 ],
 "metadata": {
  "kernelspec": {
   "display_name": "base",
   "language": "python",
   "name": "python3"
  },
  "language_info": {
   "codemirror_mode": {
    "name": "ipython",
    "version": 3
   },
   "file_extension": ".py",
   "mimetype": "text/x-python",
   "name": "python",
   "nbconvert_exporter": "python",
   "pygments_lexer": "ipython3",
   "version": "3.13.5"
  }
 },
 "nbformat": 4,
 "nbformat_minor": 4
}
