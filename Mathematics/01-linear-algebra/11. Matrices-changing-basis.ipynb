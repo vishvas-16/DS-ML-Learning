{
 "cells": [
  {
   "cell_type": "markdown",
   "metadata": {},
   "source": [
    "# Matrices for Changing Basis\n",
    "\n",
    "This notebook explains how to transform a vector's coordinates from one basis to another. We'll explore two scenarios:\n",
    "\n",
    "1.  Transforming a vector from a custom basis (we'll call it \"Bear's Basis\") to our standard basis.\n",
    "2.  Transforming a vector from our standard basis to \"Bear's Basis\"."
   ]
  },
  {
   "cell_type": "markdown",
   "metadata": {},
   "source": [
    "## Setting up the Bases\n",
    "\n",
    "Our standard basis (let's call it \"My Basis\") is defined by the vectors $\\hat{i} = \\begin{bmatrix} 1 \\\\ 0 \\end{bmatrix}$ and $\\hat{j} = \\begin{bmatrix} 0 \\\\ 1 \\end{bmatrix}$.\n",
    "\n",
    "Let's define a new basis, \"Bear's Basis\", using two different basis vectors, $\\vec{b_1}$ and $\\vec{b_2}$. These vectors are described using the coordinates of our standard basis.\n",
    "\n",
    "$$ \\vec{b_1} = \\begin{bmatrix} 3 \\\\ 1 \\end{bmatrix}, \\quad \\vec{b_2} = \\begin{bmatrix} 1 \\\\ 1 \\end{bmatrix} $$\n",
    "\n",
    "We can represent this new basis as a single **transformation matrix**, $B$, where the columns are the basis vectors of Bear's world."
   ]
  },
  {
   "cell_type": "code",
   "execution_count": 3,
   "metadata": {},
   "outputs": [
    {
     "name": "stdout",
     "output_type": "stream",
     "text": [
      "Bear's transformation matrix B:\n",
      "[[3 1]\n",
      " [1 1]]\n"
     ]
    }
   ],
   "source": [
    "import numpy as np\n",
    "\n",
    "# Bear's transformation matrix\n",
    "# The columns are the basis vectors of Bear's basis.\n",
    "B = np.array([\n",
    "    [3, 1],\n",
    "    [1, 1]\n",
    "])\n",
    "\n",
    "print(\"Bear's transformation matrix B:\")\n",
    "print(B)"
   ]
  },
  {
   "cell_type": "markdown",
   "metadata": {},
   "source": [
    "## 1. From Bear's Basis to My Basis\n",
    "\n",
    "Imagine we have a vector whose coordinates are given in Bear's basis. Let's call this vector $\\vec{v}_{Bear}$.\n",
    "\n",
    "$$ \\vec{v}_{Bear} = \\begin{bmatrix} 3/2 \\\\ 1/2 \\end{bmatrix} $$\n",
    "\n",
    "This means the vector is a linear combination of Bear's basis vectors: $ (3/2) \\cdot \\vec{b_1} + (1/2) \\cdot \\vec{b_2} $.\n",
    "\n",
    "To find the coordinates of this vector in our standard basis (My Basis), we simply multiply the transformation matrix $B$ by the vector $\\vec{v}_{Bear}$."
   ]
  },
  {
   "cell_type": "code",
   "execution_count": 4,
   "metadata": {},
   "outputs": [
    {
     "name": "stdout",
     "output_type": "stream",
     "text": [
      "Vector in Bear's basis:\n",
      "[[1.5]\n",
      " [0.5]]\n",
      "\n",
      "Same vector in My (standard) basis:\n",
      "[[5.]\n",
      " [2.]]\n"
     ]
    }
   ],
   "source": [
    "# A vector in Bear's basis\n",
    "v_bear = np.array([[1.5], [0.5]]) # Using 3/2 = 1.5 and 1/2 = 0.5\n",
    "\n",
    "# To transform from Bear's basis to my basis, we multiply B * v_bear\n",
    "v_my = B @ v_bear\n",
    "\n",
    "print(\"Vector in Bear's basis:\")\n",
    "print(v_bear)\n",
    "print(\"\\nSame vector in My (standard) basis:\")\n",
    "print(v_my)"
   ]
  },
  {
   "cell_type": "markdown",
   "metadata": {},
   "source": [
    "The result is $\\begin{bmatrix} 5 \\\\ 2 \\end{bmatrix}$. So, a vector with coordinates $\\begin{bmatrix} 1.5 \\\\ 0.5 \\end{bmatrix}$ in Bear's world has coordinates $\\begin{bmatrix} 5 \\\\ 2 \\end{bmatrix}$ in our standard world.\n",
    "\n",
    "$$ \\begin{bmatrix} 3 & 1 \\\\ 1 & 1 \\end{bmatrix} \\begin{bmatrix} 3/2 \\\\ 1/2 \\end{bmatrix} = \\begin{bmatrix} 3(3/2) + 1(1/2) \\\\ 1(3/2) + 1(1/2) \\end{bmatrix} = \\begin{bmatrix} 9/2 + 1/2 \\\\ 3/2 + 1/2 \\end{bmatrix} = \\begin{bmatrix} 10/2 \\\\ 4/2 \\end{bmatrix} = \\begin{bmatrix} 5 \\\\ 2 \\end{bmatrix} $$"
   ]
  },
  {
   "cell_type": "markdown",
   "metadata": {},
   "source": [
    "## 2. From My Basis to Bear's Basis\n",
    "\n",
    "More often, we have a vector in our standard basis and want to find its coordinates in a different basis. This is the reverse process.\n",
    "\n",
    "We just showed that:\n",
    "$$ B \\cdot \\vec{v}_{Bear} = \\vec{v}_{My} $$\n",
    "\n",
    "To solve for $\\vec{v}_{Bear}$, we need to multiply by the **inverse** of the transformation matrix, $B^{-1}$.\n",
    "\n",
    "$$ \\vec{v}_{Bear} = B^{-1} \\cdot \\vec{v}_{My} $$\n",
    "\n",
    "First, let's find the inverse of $B = \\begin{bmatrix} a & b \\\\ c & d \\end{bmatrix} = \\begin{bmatrix} 3 & 1 \\\\ 1 & 1 \\end{bmatrix}$.\n",
    "The formula for the inverse of a 2x2 matrix is:\n",
    "$$ B^{-1} = \\frac{1}{ad-bc} \\begin{bmatrix} d & -b \\\\ -c & a \\end{bmatrix} $$\n",
    "\n",
    "The determinant is $ad-bc = (3)(1) - (1)(1) = 2$. So the inverse is:\n",
    "\n",
    "$$ B^{-1} = \\frac{1}{2} \\begin{bmatrix} 1 & -1 \\\\ -1 & 3 \\end{bmatrix} $$"
   ]
  },
  {
   "cell_type": "code",
   "execution_count": 5,
   "metadata": {},
   "outputs": [
    {
     "name": "stdout",
     "output_type": "stream",
     "text": [
      "Inverse of B:\n",
      "[[ 0.5 -0.5]\n",
      " [-0.5  1.5]]\n"
     ]
    }
   ],
   "source": [
    "# Calculate the inverse of B using numpy\n",
    "B_inv = np.linalg.inv(B)\n",
    "\n",
    "print(\"Inverse of B:\")\n",
    "print(B_inv)"
   ]
  },
  {
   "cell_type": "markdown",
   "metadata": {},
   "source": [
    "Now we can transform the vector $\\vec{v}_{My} = \\begin{bmatrix} 5 \\\\ 2 \\end{bmatrix}$ from our basis into Bear's basis by multiplying it by $B^{-1}$."
   ]
  },
  {
   "cell_type": "code",
   "execution_count": 6,
   "metadata": {},
   "outputs": [
    {
     "name": "stdout",
     "output_type": "stream",
     "text": [
      "Vector in My (standard) basis:\n",
      "[[5]\n",
      " [2]]\n",
      "\n",
      "Same vector in Bear's basis:\n",
      "[[1.5]\n",
      " [0.5]]\n"
     ]
    }
   ],
   "source": [
    "# The vector in My (standard) basis\n",
    "v_my = np.array([[5], [2]])\n",
    "\n",
    "# To transform from my basis to Bear's, we multiply B_inv * v_my\n",
    "v_bear_calculated = B_inv @ v_my\n",
    "\n",
    "print(\"Vector in My (standard) basis:\")\n",
    "print(v_my)\n",
    "print(\"\\nSame vector in Bear's basis:\")\n",
    "print(v_bear_calculated)"
   ]
  },
  {
   "cell_type": "markdown",
   "metadata": {},
   "source": [
    "As expected, we get back the original vector $\\begin{bmatrix} 1.5 \\\\ 0.5 \\end{bmatrix}$. This confirms that a vector with coordinates $\\begin{bmatrix} 5 \\\\ 2 \\end{bmatrix}$ in our standard world is represented by the coordinates $\\begin{bmatrix} 1.5 \\\\ 0.5 \\end{bmatrix}$ in Bear's world."
   ]
  }
 ],
 "metadata": {
  "kernelspec": {
   "display_name": "base",
   "language": "python",
   "name": "python3"
  },
  "language_info": {
   "codemirror_mode": {
    "name": "ipython",
    "version": 3
   },
   "file_extension": ".py",
   "mimetype": "text/x-python",
   "name": "python",
   "nbconvert_exporter": "python",
   "pygments_lexer": "ipython3",
   "version": "3.13.5"
  }
 },
 "nbformat": 4,
 "nbformat_minor": 2
}
