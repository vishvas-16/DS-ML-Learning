{
 "cells": [
  {
   "cell_type": "markdown",
   "metadata": {},
   "source": [
    "# Transforming a Vector in a Changed Basis basis\n",
    "\n",
    "This notebook explains how to apply a transformation (like a rotation) to a vector that is defined in a non-standard coordinate system or basis."
   ]
  },
  {
   "cell_type": "markdown",
   "metadata": {},
   "source": [
    "## The Problem Setup\n",
    "\n",
    "Let's define a non-standard basis, which we'll call \"Bear's Basis\". This basis is represented by the matrix $B$, where the columns are the basis vectors.\n",
    "\n",
    "Bear's Basis: $B = \\begin{bmatrix} 3 & 1 \\\\ 1 & 1 \\end{bmatrix}$\n",
    "\n",
    "Now, consider a vector $v$ whose coordinates are given in Bear's Basis.\n",
    "\n",
    "Vector in Bear's Basis: $v_B = \\begin{bmatrix} x \\\\ y \\end{bmatrix}$"
   ]
  },
  {
   "cell_type": "markdown",
   "metadata": {},
   "source": [
    "Our goal is to **rotate this vector $v$ by 45° counter-clockwise**.\n",
    "\n",
    "The challenge is that the standard 45° rotation matrix is designed to work on vectors in the standard basis (our system), not in Bear's Basis. We don't immediately know how to write a rotation matrix that works directly in Bear's coordinate system."
   ]
  },
  {
   "cell_type": "markdown",
   "metadata": {},
   "source": [
    "## The Strategy: A Three-Step Process\n",
    "\n",
    "The solution is to temporarily convert the vector to our standard basis, perform the rotation there, and then convert it back to Bear's basis.\n",
    "\n",
    "Here is the standard 45° counter-clockwise rotation matrix, $R_{45}$:\n",
    "\n",
    "$R_{45} = \\begin{bmatrix} \\cos(45°) & -\\sin(45°) \\\\ \\sin(45°) & \\cos(45°) \\end{bmatrix} = \\frac{1}{\\sqrt{2}}\\begin{bmatrix} 1 & -1 \\\\ 1 & 1 \\end{bmatrix}$"
   ]
  },
  {
   "cell_type": "markdown",
   "metadata": {},
   "source": [
    "### Step 1: Change the vector to our coordinate frame (Standard Basis)\n",
    "\n",
    "To see what the vector $v_B$ looks like in the standard basis, we multiply it by the basis matrix $B$. Let's call the resulting vector $v_{std}$.\n",
    "\n",
    "$v_{std} = B \\cdot v_B = \\begin{bmatrix} 3 & 1 \\\\ 1 & 1 \\end{bmatrix} \\begin{bmatrix} x \\\\ y \\end{bmatrix}$"
   ]
  },
  {
   "cell_type": "markdown",
   "metadata": {},
   "source": [
    "### Step 2: Apply the rotation in our basis\n",
    "\n",
    "Now that the vector is in the standard basis, we can apply the standard rotation matrix $R_{45}$ to it.\n",
    "\n",
    "$v'_{std} = R_{45} \\cdot v_{std} = \\frac{1}{\\sqrt{2}}\\begin{bmatrix} 1 & -1 \\\\ 1 & 1 \\end{bmatrix} \\left( \\begin{bmatrix} 3 & 1 \\\\ 1 & 1 \\end{bmatrix} \\begin{bmatrix} x \\\\ y \\end{bmatrix} \\right)$"
   ]
  },
  {
   "cell_type": "markdown",
   "metadata": {},
   "source": [
    "### Step 3: Transform the resulting vector back into Bear's basis\n",
    "\n",
    "The vector $v'_{std}$ is the rotated vector, but its coordinates are in our standard basis. To find the coordinates in Bear's basis, we need to \"undo\" the change of basis from Step 1. We do this by multiplying by the inverse of the basis matrix, $B^{-1}$.\n",
    "\n",
    "$v'_B = B^{-1} \\cdot v'_{std} = B^{-1} R_{45} B v_B$\n",
    "\n",
    "Let's find $B^{-1}$:\n",
    "$\\det(B) = (3)(1) - (1)(1) = 2$\n",
    "$B^{-1} = \\frac{1}{2} \\begin{bmatrix} 1 & -1 \\\\ -1 & 3 \\end{bmatrix}$\n",
    "\n",
    "So, the complete operation is:\n",
    "\n",
    "$v'_B = \\underbrace{\\frac{1}{2}\\begin{bmatrix} 1 & -1 \\\\ -1 & 3 \\end{bmatrix}}_{B^{-1}} \\underbrace{\\frac{1}{\\sqrt{2}}\\begin{bmatrix} 1 & -1 \\\\ 1 & 1 \\end{bmatrix}}_{R_{45}} \\underbrace{\\begin{bmatrix} 3 & 1 \\\\ 1 & 1 \\end{bmatrix}}_{B} \\underbrace{\\begin{bmatrix} x \\\\ y \\end{bmatrix}}_{v_B}$"
   ]
  },
  {
   "cell_type": "markdown",
   "metadata": {},
   "source": [
    "## The Transformation Matrix in the New Basis\n",
    "\n",
    "The combination $B^{-1}RB$ gives us a new matrix, let's call it $R_B$, which is the 45° rotation operator *as seen from within Bear's basis*.\n",
    "\n",
    "$$ R_B = B^{-1} R_{45} B $$\n",
    "\n",
    "Applying this new matrix $R_B$ to a vector $v_B$ (in Bear's basis) will give the rotated vector $v'_B$ (also in Bear's basis).\n",
    "\n",
    "$$ v'_B = R_B v_B $$"
   ]
  },
  {
   "cell_type": "markdown",
   "metadata": {},
   "source": [
    "## Python Implementation"
   ]
  },
  {
   "cell_type": "code",
   "execution_count": 4,
   "metadata": {},
   "outputs": [
    {
     "name": "stdout",
     "output_type": "stream",
     "text": [
      "Bear's Basis (B):\n",
      "[[3 1]\n",
      " [1 1]]\n",
      "\n",
      "Standard 45° Rotation (R_45):\n",
      "[[ 0.70710678 -0.70710678]\n",
      " [ 0.70710678  0.70710678]]\n",
      "\n",
      "Inverse of Bear's Basis (B_inv):\n",
      "[[ 0.5 -0.5]\n",
      " [-0.5  1.5]]\n",
      "\n",
      "Original vector in Bear's basis (v_B): [1 0]\n",
      "\n"
     ]
    }
   ],
   "source": [
    "import numpy as np\n",
    "\n",
    "# Define the Bear's Basis matrix B\n",
    "B = np.array([\n",
    "    [3, 1],\n",
    "    [1, 1]\n",
    "])\n",
    "\n",
    "# Define the standard 45-degree rotation matrix R_45\n",
    "R_45 = (1/np.sqrt(2)) * np.array([\n",
    "    [1, -1],\n",
    "    [1, 1]\n",
    "])\n",
    "\n",
    "# Calculate the inverse of B\n",
    "B_inv = np.linalg.inv(B)\n",
    "\n",
    "# Let's take an example vector in Bear's basis.\n",
    "# Let's say v_B = [1, 0]. This corresponds to the first basis vector of B.\n",
    "v_B = np.array([1, 0])\n",
    "\n",
    "print(f\"Bear's Basis (B):\\n{B}\\n\")\n",
    "print(f\"Standard 45° Rotation (R_45):\\n{R_45}\\n\")\n",
    "print(f\"Inverse of Bear's Basis (B_inv):\\n{B_inv}\\n\")\n",
    "print(f\"Original vector in Bear's basis (v_B): {v_B}\\n\")"
   ]
  },
  {
   "cell_type": "code",
   "execution_count": 5,
   "metadata": {},
   "outputs": [
    {
     "name": "stdout",
     "output_type": "stream",
     "text": [
      "Step 1: v_B in standard basis (v_std): [3 1]\n",
      "\n",
      "Step 2: Rotated vector in standard basis (v_std_rotated): [1.41421356 2.82842712]\n",
      "\n",
      "Step 3: Final rotated vector in Bear's basis (v_B_rotated): [-0.70710678  3.53553391]\n",
      "\n"
     ]
    }
   ],
   "source": [
    "# STEP 1: Convert v_B to the standard basis\n",
    "v_std = B @ v_B\n",
    "print(f\"Step 1: v_B in standard basis (v_std): {v_std}\\n\")\n",
    "\n",
    "# STEP 2: Apply the rotation in the standard basis\n",
    "v_std_rotated = R_45 @ v_std\n",
    "print(f\"Step 2: Rotated vector in standard basis (v_std_rotated): {v_std_rotated}\\n\")\n",
    "\n",
    "# STEP 3: Convert the rotated vector back to Bear's basis\n",
    "v_B_rotated = B_inv @ v_std_rotated\n",
    "print(f\"Step 3: Final rotated vector in Bear's basis (v_B_rotated): {v_B_rotated}\\n\")"
   ]
  },
  {
   "cell_type": "markdown",
   "metadata": {},
   "source": [
    "### Using the Combined Transformation Matrix\n",
    "\n",
    "We can also compute the single matrix $R_B$ that performs the rotation directly in Bear's basis and apply it."
   ]
  },
  {
   "cell_type": "code",
   "execution_count": 6,
   "metadata": {},
   "outputs": [
    {
     "name": "stdout",
     "output_type": "stream",
     "text": [
      "The 45° rotation matrix in Bear's basis (R_B):\n",
      "[[-0.70710678 -0.70710678]\n",
      " [ 3.53553391  2.12132034]]\n",
      "\n",
      "Final rotated vector calculated directly (R_B @ v_B): [-0.70710678  3.53553391]\n",
      "Are the results from both methods close? True\n"
     ]
    }
   ],
   "source": [
    "# Calculate the rotation matrix for Bear's basis\n",
    "R_B = B_inv @ R_45 @ B\n",
    "\n",
    "print(f\"The 45° rotation matrix in Bear's basis (R_B):\\n{R_B}\\n\")\n",
    "\n",
    "# Apply this new operator directly to the original vector v_B\n",
    "v_B_rotated_direct = R_B @ v_B\n",
    "\n",
    "print(f\"Final rotated vector calculated directly (R_B @ v_B): {v_B_rotated_direct}\")\n",
    "\n",
    "# Check if the results are the same (they should be)\n",
    "print(f\"Are the results from both methods close? {np.allclose(v_B_rotated, v_B_rotated_direct)}\")"
   ]
  }
 ],
 "metadata": {
  "kernelspec": {
   "display_name": "base",
   "language": "python",
   "name": "python3"
  },
  "language_info": {
   "codemirror_mode": {
    "name": "ipython",
    "version": 3
   },
   "file_extension": ".py",
   "mimetype": "text/x-python",
   "name": "python",
   "nbconvert_exporter": "python",
   "pygments_lexer": "ipython3",
   "version": "3.13.5"
  }
 },
 "nbformat": 4,
 "nbformat_minor": 4
}
