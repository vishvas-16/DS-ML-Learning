{
 "cells": [
  {
   "cell_type": "markdown",
   "id": "7d825bc4",
   "metadata": {},
   "source": [
    "## Definition: Basis (for 2 Vectors)\n",
    "\n",
    "A **basis** is a set of vectors that satisfies two key properties:\n",
    "\n",
    "1. **Linear Independence:**  \n",
    "   The two vectors are not linear combinations of each other. In other words, neither vector can be written as a scalar multiple or sum of the other. This ensures that the vectors point in different directions.\n",
    "\n",
    "2. **Spanning:**  \n",
    "   The two vectors together can generate (span) a new space. Any vector in this space can be written as a linear combination of these two basis vectors.\n",
    "\n",
    "**Example:**  \n",
    "In 2D space, the vectors  \n",
    "[4,0] and [0,6]\n",
    "form a basis because they are linearly independent and span the entire 2D plane."
   ]
  },
  {
   "cell_type": "markdown",
   "id": "d6c55eee",
   "metadata": {},
   "source": [
    "## Checking if two vectors are linearly independent\n",
    "<p>Stack the vectors as columns of a matrix:\n",
    "We use np.column_stack((v1, v2)) to create a 2x2 matrix where each vector is a column.\n",
    "\n",
    "Compute the matrix rank:\n",
    "We use np.linalg.matrix_rank(matrix) to find the rank of this matrix. The rank tells us how many linearly independent columns the matrix has.</p>"
   ]
  },
  {
   "cell_type": "code",
   "execution_count": 4,
   "id": "38cdafe6",
   "metadata": {},
   "outputs": [
    {
     "name": "stdout",
     "output_type": "stream",
     "text": [
      "Linearly independent: True\n"
     ]
    }
   ],
   "source": [
    "import numpy as np\n",
    "\n",
    "def are_linearly_independent(v1, v2):\n",
    "    \"\"\"\n",
    "    Returns True if v1 and v2 are linearly independent, False otherwise.\n",
    "    \"\"\"\n",
    "    matrix = np.column_stack((v1, v2))\n",
    "    return np.linalg.matrix_rank(matrix) == 2\n",
    "\n",
    "# Example usage:\n",
    "v1 = [4, 0]\n",
    "v2 = [0, 6]\n",
    "print(\"Linearly independent:\", are_linearly_independent(v1, v2))\n"
   ]
  },
  {
   "cell_type": "code",
   "execution_count": null,
   "id": "51ae2342",
   "metadata": {},
   "outputs": [],
   "source": []
  }
 ],
 "metadata": {
  "kernelspec": {
   "display_name": "base",
   "language": "python",
   "name": "python3"
  },
  "language_info": {
   "codemirror_mode": {
    "name": "ipython",
    "version": 3
   },
   "file_extension": ".py",
   "mimetype": "text/x-python",
   "name": "python",
   "nbconvert_exporter": "python",
   "pygments_lexer": "ipython3",
   "version": "3.13.5"
  }
 },
 "nbformat": 4,
 "nbformat_minor": 5
}
