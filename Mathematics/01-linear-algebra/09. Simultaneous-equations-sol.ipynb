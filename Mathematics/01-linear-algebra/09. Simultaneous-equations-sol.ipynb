{
 "cells": [
  {
   "cell_type": "markdown",
   "metadata": {},
   "source": [
    "# Solving Systems of Linear Equations with Matrices\n",
    "\n",
    "This notebook explains the concepts from the provided notes in a chronological order. We'll explore how matrices transform vectors and how to use the inverse of a matrix to solve systems of linear equations.\n",
    "\n",
    "We will cover:\n",
    "1. Representing simultaneous equations in matrix form (`Ax = b`).\n",
    "2. Understanding the concept of an inverse matrix (`A⁻¹`) and the identity matrix (`I`).\n",
    "3. Method 1: Using Gaussian Elimination to find a solution for a *specific* output.\n",
    "4. Method 2: Using Gauss-Jordan Elimination to find the *general* inverse matrix (`A⁻¹`)."
   ]
  },
  {
   "cell_type": "markdown",
   "metadata": {},
   "source": [
    "## 1. The Problem: Simultaneous Equations as Matrix Transformations\n",
    "\n",
    "The key idea is that matrices can be seen as functions that transform vectors. When we have a system of simultaneous equations, we are trying to find an *input* vector that, after being transformed by a matrix, results in a given *output* vector.\n",
    "\n",
    "Let's take the \"Apples & Bananas\" problem from the notes:\n",
    "\n",
    "$2a + 3b = 8$\n",
    "\n",
    "$10a + 1b = 13$\n",
    "\n",
    "We can represent this in the form **Ax = b**, where:\n",
    "- **A** is the transformation matrix.\n",
    "- **x** is the input vector we want to find (the number of apples and bananas).\n",
    "- **b** is the output vector."
   ]
  },
  {
   "cell_type": "code",
   "execution_count": 4,
   "metadata": {},
   "outputs": [
    {
     "name": "stdout",
     "output_type": "stream",
     "text": [
      "Matrix A:\n",
      " [[ 2  3]\n",
      " [10  1]]\n",
      "\n",
      "Vector b:\n",
      " [[ 8]\n",
      " [13]]\n"
     ]
    }
   ],
   "source": [
    "import numpy as np\n",
    "\n",
    "# The transformation matrix A\n",
    "A = np.array([\n",
    "    [2, 3],\n",
    "    [10, 1]\n",
    "])\n",
    "\n",
    "# The output vector b\n",
    "b = np.array([\n",
    "    [8],\n",
    "    [13]\n",
    "])\n",
    "\n",
    "print(\"Matrix A:\\n\", A)\n",
    "print(\"\\nVector b:\\n\", b)"
   ]
  },
  {
   "cell_type": "markdown",
   "metadata": {},
   "source": [
    "## 2. The Solution: Using the Inverse Matrix\n",
    "\n",
    "To solve for our input vector `x`, we need to \"undo\" the transformation applied by matrix `A`. This is where the **inverse matrix**, denoted as **A⁻¹**, comes in.\n",
    "\n",
    "The inverse matrix has a special property: when you multiply a matrix by its inverse, you get the **identity matrix (I)**.\n",
    "\n",
    "> **A⁻¹A = I**\n",
    "\n",
    "The identity matrix is the matrix equivalent of the number 1; it doesn't change a vector when multiplied. For a 2x2 matrix, `I` is:\n",
    "\n",
    "```\n",
    "[[1, 0],\n",
    " [0, 1]]\n",
    "```\n",
    "\n",
    "By multiplying both sides of our original equation `Ax = b` by `A⁻¹`, we can isolate `x`:\n",
    "\n",
    "> **A⁻¹(Ax) = A⁻¹b**\n",
    "> **(A⁻¹A)x = A⁻¹b**\n",
    "> **Ix = A⁻¹b**\n",
    "> **x = A⁻¹b**\n",
    "\n",
    "So, if we can find the inverse of `A`, we can find our input vector `x`."
   ]
  },
  {
   "cell_type": "markdown",
   "metadata": {},
   "source": [
    "## 3. Method 1: Gaussian Elimination for a Specific Output\n",
    "\n",
    "This method solves the system for a single, specific output `b` without calculating the full inverse. We combine `A` and `b` into an **augmented matrix** `[A|b]` and perform row operations to get it into **echelon form** (an upper triangular matrix).\n",
    "\n",
    "Let's use the other example from your notes:\n",
    "\n",
    "**A** = `[[1, 1, 3], [1, 2, 4], [1, 1, 2]]`\n",
    "\n",
    "**b** = `[[15], [21], [13]]`\n",
    "\n",
    "Our augmented matrix is:\n",
    "`[[1, 1, 3 | 15], [1, 2, 4 | 21], [1, 1, 2 | 13]]`\n",
    "\n",
    "**Step 1: Take row 1 from row 2 and row 3.**\n",
    "- R2 = R2 - R1\n",
    "- R3 = R3 - R1\n",
    "\n",
    "This results in:\n",
    "`[[1, 1, 3 | 15], [0, 1, 1 | 6], [0, 0, -1 | -2]]`\n",
    "\n",
    "Now the matrix is in echelon form. We can solve for `c` from the last row:\n",
    "- `-1c = -2  => c = 2`\n",
    "\n",
    "Then we use **back substitution** to find `b` and `a`.\n",
    "- `b + c = 6  => b + 2 = 6  => b = 4`\n",
    "- `a + b + 3c = 15  => a + 4 + 3(2) = 15  => a + 10 = 15  => a = 5`\n",
    "\n",
    "So, our solution vector `x` is `[5, 4, 2]`."
   ]
  },
  {
   "cell_type": "code",
   "execution_count": 5,
   "metadata": {},
   "outputs": [
    {
     "name": "stdout",
     "output_type": "stream",
     "text": [
      "The solution vector x is:\n",
      " [[5.]\n",
      " [4.]\n",
      " [2.]]\n"
     ]
    }
   ],
   "source": [
    "# We can verify this solution with NumPy's solver\n",
    "A_ex = np.array([\n",
    "    [1, 1, 3],\n",
    "    [1, 2, 4],\n",
    "    [1, 1, 2]\n",
    "])\n",
    "\n",
    "b_ex = np.array([\n",
    "    [15],\n",
    "    [21],\n",
    "    [13]\n",
    "])\n",
    "\n",
    "# Use np.linalg.solve to find x\n",
    "x_solution = np.linalg.solve(A_ex, b_ex)\n",
    "print(\"The solution vector x is:\\n\", x_solution)"
   ]
  },
  {
   "cell_type": "markdown",
   "metadata": {},
   "source": [
    "## 4. Method 2: Gauss-Jordan Elimination to Find the Inverse\n",
    "\n",
    "This is a more powerful method because it finds the actual inverse matrix `A⁻¹`, which allows us to find the solution `x` for *any* output vector `b`.\n",
    "\n",
    "The process is to augment matrix `A` with the **identity matrix `I`**, forming `[A|I]`. We then perform row operations on the entire augmented matrix until the left side (`A`) becomes the identity matrix. The right side will then be the inverse, `A⁻¹`.\n",
    "\n",
    "> **[A | I]  →  [I | A⁻¹]**\n",
    "\n",
    "Let's use the same matrix `A`:\n",
    "`A = [[1, 1, 3], [1, 2, 4], [1, 1, 2]]`\n",
    "\n",
    "**Start:** `[[1, 1, 3 | 1, 0, 0], [1, 2, 4 | 0, 1, 0], [1, 1, 2 | 0, 0, 1]]`\n",
    "\n",
    "**Step 1: Subtract Row 1 from Row 2 and Row 3**\n",
    "`[[1, 1, 3 | 1, 0, 0], [0, 1, 1 | -1, 1, 0], [0, 0, -1 | -1, 0, 1]]`\n",
    "\n",
    "**Step 2: Multiply Row 3 by -1**\n",
    "`[[1, 1, 3 | 1, 0, 0], [0, 1, 1 | -1, 1, 0], [0, 0, 1 | 1, 0, -1]]`\n",
    "\n",
    "Now we work backwards (this is the \"Jordan\" part of the method).\n",
    "\n",
    "**Step 3: Subtract Row 3 from Row 2. Subtract 3 * Row 3 from Row 1.**\n",
    "`[[1, 1, 0 | -2, 0, 3], [0, 1, 0 | -2, 1, 1], [0, 0, 1 | 1, 0, -1]]`\n",
    "\n",
    "**Step 4: Subtract Row 2 from Row 1.**\n",
    "`[[1, 0, 0 | 0, -1, 2], [0, 1, 0 | -2, 1, 1], [0, 0, 1 | 1, 0, -1]]`\n",
    "\n",
    "We have successfully transformed the left side to the identity matrix. The right side is now our inverse matrix!\n",
    "\n",
    "**A⁻¹** = `[[0, -1, 2], [-2, 1, 1], [1, 0, -1]]`"
   ]
  },
  {
   "cell_type": "code",
   "execution_count": 6,
   "metadata": {},
   "outputs": [
    {
     "name": "stdout",
     "output_type": "stream",
     "text": [
      "The inverse of A is:\n",
      " [[ 0. -1.  2.]\n",
      " [-2.  1.  1.]\n",
      " [ 1. -0. -1.]]\n",
      "\n",
      "The solution x found using the inverse is:\n",
      " [[5.]\n",
      " [4.]\n",
      " [2.]]\n"
     ]
    }
   ],
   "source": [
    "# Let's verify this with NumPy's inverse function\n",
    "A_inv = np.linalg.inv(A_ex)\n",
    "\n",
    "print(\"The inverse of A is:\\n\", A_inv)\n",
    "\n",
    "# Now, we can solve for x using x = A⁻¹b\n",
    "x_from_inverse = A_inv @ b_ex # The @ symbol is for matrix multiplication\n",
    "\n",
    "print(\"\\nThe solution x found using the inverse is:\\n\", x_from_inverse)"
   ]
  },
  {
   "cell_type": "markdown",
   "metadata": {},
   "source": [
    "## Conclusion\n",
    "\n",
    "As we've seen, we can solve a system of linear equations `Ax = b` in two main ways:\n",
    "\n",
    "1.  **Gaussian Elimination (`[A|b]`)**: This is efficient if you only need to solve for one specific output `b`. It transforms `A` into an upper-triangular matrix and uses back-substitution.\n",
    "\n",
    "2.  **Gauss-Jordan Elimination (`[A|I]`)**: This is more versatile as it finds the complete inverse `A⁻¹`. Once you have the inverse, you can easily find the solution `x` for *any* output `b` by simply performing the matrix multiplication `x = A⁻¹b`."
   ]
  }
 ],
 "metadata": {
  "kernelspec": {
   "display_name": "base",
   "language": "python",
   "name": "python3"
  },
  "language_info": {
   "codemirror_mode": {
    "name": "ipython",
    "version": 3
   },
   "file_extension": ".py",
   "mimetype": "text/x-python",
   "name": "python",
   "nbconvert_exporter": "python",
   "pygments_lexer": "ipython3",
   "version": "3.13.5"
  }
 },
 "nbformat": 4,
 "nbformat_minor": 4
}
